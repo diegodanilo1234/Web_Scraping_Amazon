{
 "cells": [
  {
   "cell_type": "markdown",
   "id": "32b1b18d-225a-4980-9152-102c556b786c",
   "metadata": {
    "tags": []
   },
   "source": [
    "# Proyecto webscraping a Amazon"
   ]
  },
  {
   "cell_type": "code",
   "execution_count": 1,
   "id": "7de500c5-a355-4555-b85d-4a894a07e75f",
   "metadata": {},
   "outputs": [],
   "source": [
    "# Importamos las librerias\n",
    "from bs4 import BeautifulSoup\n",
    "import requests\n",
    "import smtplib\n",
    "import time \n",
    "import datetime"
   ]
  },
  {
   "cell_type": "code",
   "execution_count": 6,
   "id": "40db3f18-bb76-4aed-9ad7-44bdb115362f",
   "metadata": {},
   "outputs": [
    {
     "name": "stdout",
     "output_type": "stream",
     "text": [
      "\n",
      "            Acer Predator Helios 300 PH315-54-760S Laptop Gaming | Intel i7-11800H | NVIDIA GeForce RTX 3060 Laptop GPU | 15.6\" Full HD 144Hz 3ms IPS Display | 16GB DDR4 | 512GB SSD | Killer WiFi 6 | Teclado RGB\n",
      "           \n",
      "\n",
      "\n",
      "\n",
      "\n",
      "\n",
      "\n",
      "             US$1,283.56\n",
      "            \n",
      "\n",
      "\n",
      "              US$\n",
      "             \n",
      "\n",
      "              1,283\n",
      "              \n",
      "               .\n",
      "              \n",
      "\n",
      "\n",
      "              56\n",
      "             \n",
      "\n",
      "\n",
      "\n",
      "\n",
      "\n",
      "\n",
      "\n",
      "\n",
      "\n",
      "\n",
      "\n",
      "\n",
      "\n",
      "\n",
      "\n",
      "\n",
      "\n",
      "\n",
      "\n",
      "\n",
      "\n",
      "\n",
      "\n",
      "\n",
      "\n",
      "\n",
      "\n",
      "\n",
      "\n",
      "\n",
      "\n",
      "\n",
      "\n",
      "\n",
      "\n",
      "\n",
      "\n",
      "\n",
      "\n",
      "\n",
      "\n",
      "\n",
      "\n",
      "\n",
      "\n",
      "\n",
      "\n",
      "\n",
      "\n",
      "\n",
      "\n",
      "\n",
      "\n",
      "\n",
      "\n",
      "\n",
      "\n",
      "\n",
      "\n",
      "\n",
      "\n",
      "\n",
      "\n",
      "\n",
      "\n"
     ]
    }
   ],
   "source": [
    "# Conectamos con la página web\n",
    "url = \"https://www.amazon.com/-/es/Predator-PH315-54-760S-i7-11800H-GeForce-Display/dp/B092YHJLS6?ref_=Oct_d_obs_d_565108&pd_rd_w=kSFw7&pf_rd_p=8000bc8c-c3b0-4816-9f00-5038ff54385c&pf_rd_r=65PD8JD8QS3BNPEH617Q&pd_rd_r=57437b74-5642-4da4-95da-b65cb073dab2&pd_rd_wg=pVHEg&pd_rd_i=B092YHJLS6&th=1\"\n",
    "\n",
    "headers = {\"User-Agent\": \"Mozilla/5.0 (Windows NT 10.0; Win64; x64) AppleWebKit/537.36 (KHTML, like Gecko) Chrome/78.0.3904.108 Safari/537.36\", \"Accept-Encoding\":\"gzip, deflate\", \"Accept\":\"text/html,application/xhtml+xml,application/xml;q=0.9,*/*;q=0.8\", \"DNT\":\"1\",\"Connection\":\"close\", \"Upgrade-Insecure-Requests\":\"1\"}\n",
    "\n",
    "\n",
    "page = requests.get(url, headers=headers)\n",
    "\n",
    "amazon1 = BeautifulSoup(page.content, \"html.parser\")\n",
    "\n",
    "amazon2 = BeautifulSoup(amazon1.prettify(), \"html.parser\")\n",
    "\n",
    "title = amazon2.find(id=\"productTitle\").get_text()\n",
    "\n",
    "price = amazon2.find(id=\"apex_desktop\").get_text()\n",
    "\n",
    "print(title)\n",
    "print(price)\n",
    "\n",
    "\n",
    "\n",
    "\n",
    "\n",
    "\n"
   ]
  },
  {
   "cell_type": "code",
   "execution_count": 8,
   "id": "1a2489e2-96d1-4e80-949d-3658fda2c36c",
   "metadata": {},
   "outputs": [
    {
     "name": "stdout",
     "output_type": "stream",
     "text": [
      "Acer Predator Helios 300 PH315-54-760S Laptop Gaming\n",
      "$1,283.56\n"
     ]
    }
   ],
   "source": [
    "# Limpieza de datos\n",
    "\n",
    "price = price.strip()[1:11]\n",
    "title = title.strip()[0:52]\n",
    "\n",
    "print(title)\n",
    "print(price)"
   ]
  },
  {
   "cell_type": "code",
   "execution_count": 9,
   "id": "bf752431-3310-42f7-8e57-a42a0d57854b",
   "metadata": {},
   "outputs": [
    {
     "name": "stdout",
     "output_type": "stream",
     "text": [
      "2022-01-09\n"
     ]
    }
   ],
   "source": [
    "# Creamos una variable de tiempo para rastrear cuando se obtuvierón los datos\n",
    "\n",
    "today = datetime.date.today()\n",
    "\n",
    "print(today)"
   ]
  },
  {
   "cell_type": "code",
   "execution_count": 10,
   "id": "e76f0ce6-0fff-47b4-9eb3-c891ca529300",
   "metadata": {},
   "outputs": [],
   "source": [
    "# Creamos un csv con su encabezado y datos del archivo\n",
    "\n",
    "import csv \n",
    "\n",
    "header = ['Title', 'Price', 'Date']\n",
    "data = [title, price, today]\n",
    "\n",
    "\n",
    "with open('AmazonWebScraperDataset.csv', 'w', newline='', encoding='UTF8') as f:\n",
    "    writer = csv.writer(f)\n",
    "    writer.writerow(header)\n",
    "    writer.writerow(data)\n",
    "    "
   ]
  },
  {
   "cell_type": "code",
   "execution_count": 11,
   "id": "d43cf518-52d4-47db-a679-a7152dcee84c",
   "metadata": {},
   "outputs": [
    {
     "name": "stdout",
     "output_type": "stream",
     "text": [
      "                                               Title      Price        Date\n",
      "0  Acer Predator Helios 300 PH315-54-760S Laptop ...  $1,283.56  2022-01-09\n"
     ]
    }
   ],
   "source": [
    "import pandas as pd\n",
    "\n",
    "df = pd.read_csv(r\"C:\\Users\\DANILO\\AmazonWebScraperDataset.csv\")\n",
    "\n",
    "print(df)"
   ]
  },
  {
   "cell_type": "code",
   "execution_count": 12,
   "id": "7462946f-55bf-4ef7-8b63-ad5c645aba29",
   "metadata": {},
   "outputs": [],
   "source": [
    "# Agregamos mas datos al dataset\n",
    "with open('AmazonWebScraperDataset.csv', 'a+', newline='', encoding='UTF8') as f:\n",
    "    writer = csv.writer(f)\n",
    "    writer.writerow(data)"
   ]
  },
  {
   "cell_type": "code",
   "execution_count": 13,
   "id": "7f4ca7df-fbf2-4233-bbe2-7028dbb5cf5e",
   "metadata": {},
   "outputs": [],
   "source": [
    "# Creamos una función con todo el código escrito anteriormente\n",
    "def check_price():\n",
    "    url = \"https://www.amazon.com/-/es/Predator-PH315-54-760S-i7-11800H-GeForce-Display/dp/B092YHJLS6?ref_=Oct_d_obs_d_565108&pd_rd_w=kSFw7&pf_rd_p=8000bc8c-c3b0-4816-9f00-5038ff54385c&pf_rd_r=65PD8JD8QS3BNPEH617Q&pd_rd_r=57437b74-5642-4da4-95da-b65cb073dab2&pd_rd_wg=pVHEg&pd_rd_i=B092YHJLS6&th=1\"\n",
    "\n",
    "    headers = {\"User-Agent\": \"Mozilla/5.0 (Windows NT 10.0; Win64; x64) AppleWebKit/537.36 (KHTML, like Gecko) Chrome/78.0.3904.108 Safari/537.36\", \"Accept-Encoding\":\"gzip, deflate\", \"Accept\":\"text/html,application/xhtml+xml,application/xml;q=0.9,*/*;q=0.8\", \"DNT\":\"1\",\"Connection\":\"close\", \"Upgrade-Insecure-Requests\":\"1\"}\n",
    "\n",
    "    page = requests.get(url, headers=headers)\n",
    "\n",
    "    amazon1 = BeautifulSoup(page.content, \"html.parser\")\n",
    "\n",
    "    amazon2 = BeautifulSoup(amazon1.prettify(), \"html.parser\")\n",
    "\n",
    "    title = amazon2.find(id=\"productTitle\").get_text()\n",
    "\n",
    "    price = amazon2.find(id=\"apex_desktop\").get_text()\n",
    "\n",
    "    today = datetime.date.today()\n",
    "\n",
    "    header = ['Title', 'Price', 'Date']\n",
    "    data = [title, price, today]\n",
    "\n",
    "    with open('AmazonWebScraperDataset.csv', 'a+', newline='', encoding='UTF8') as f:\n",
    "        writer = csv.writer(f)\n",
    "        writer.writerow(data)\n"
   ]
  },
  {
   "cell_type": "code",
   "execution_count": null,
   "id": "0e75aaa3-48f6-4f1a-8995-57aaa8749713",
   "metadata": {},
   "outputs": [],
   "source": [
    "while(True):\n",
    "    check_price()\n",
    "    time.sleep(100)"
   ]
  },
  {
   "cell_type": "code",
   "execution_count": null,
   "id": "78ade186-0715-4c2b-b096-9e47c8f52a4b",
   "metadata": {},
   "outputs": [],
   "source": [
    "import pandas as pd\n",
    "\n",
    "df = pd.read_csv(r\"C:\\Users\\DANILO\\AmazonWebScraperDataset.csv\")\n",
    "\n",
    "print(df)"
   ]
  }
 ],
 "metadata": {
  "kernelspec": {
   "display_name": "Python 3 (ipykernel)",
   "language": "python",
   "name": "python3"
  },
  "language_info": {
   "codemirror_mode": {
    "name": "ipython",
    "version": 3
   },
   "file_extension": ".py",
   "mimetype": "text/x-python",
   "name": "python",
   "nbconvert_exporter": "python",
   "pygments_lexer": "ipython3",
   "version": "3.10.1"
  }
 },
 "nbformat": 4,
 "nbformat_minor": 5
}
